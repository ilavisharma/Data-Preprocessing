{
  "nbformat": 4,
  "nbformat_minor": 0,
  "metadata": {
    "colab": {
      "name": "12_DataPreprocessing.ipynb",
      "version": "0.3.2",
      "provenance": [],
      "collapsed_sections": []
    },
    "kernelspec": {
      "name": "python3",
      "display_name": "Python 3"
    }
  },
  "cells": [
    {
      "cell_type": "code",
      "metadata": {
        "id": "yLfhG5ca3l7Z",
        "colab_type": "code",
        "colab": {}
      },
      "source": [
        "# import our data\n",
        "\n",
        "# Load the Drive helper and mount\n",
        "from google.colab import drive\n",
        "\n",
        "# This will prompt for authorization.\n",
        "drive.mount('/content/drive')\n",
        "\n",
        "# change to the datasets folder present in the mounted drive\n",
        "%cd /content/drive/My Drive/DataSets"
      ],
      "execution_count": 0,
      "outputs": []
    },
    {
      "cell_type": "code",
      "metadata": {
        "id": "ZEDc6Uen5iId",
        "colab_type": "code",
        "colab": {}
      },
      "source": [
        "# import required libraries\n",
        "import numpy as np\n",
        "import pandas as pd\n",
        "import matplotlib.pyplot as plt\n",
        "\n",
        "# plotting is visible\n",
        "%matplotlib inline"
      ],
      "execution_count": 0,
      "outputs": []
    },
    {
      "cell_type": "code",
      "metadata": {
        "id": "cW0g0E-S7L0I",
        "colab_type": "code",
        "colab": {}
      },
      "source": [
        "# import dataset\n",
        "dataFrame= pd.read_csv('CleanupData.csv')"
      ],
      "execution_count": 0,
      "outputs": []
    },
    {
      "cell_type": "code",
      "metadata": {
        "id": "ND4d3Tt97fO1",
        "colab_type": "code",
        "outputId": "6d45cbf9-d45d-41d4-d40c-d30f6f0ee5d5",
        "colab": {
          "base_uri": "https://localhost:8080/",
          "height": 359
        }
      },
      "source": [
        "dataFrame"
      ],
      "execution_count": 4,
      "outputs": [
        {
          "output_type": "execute_result",
          "data": {
            "text/html": [
              "<div>\n",
              "<style scoped>\n",
              "    .dataframe tbody tr th:only-of-type {\n",
              "        vertical-align: middle;\n",
              "    }\n",
              "\n",
              "    .dataframe tbody tr th {\n",
              "        vertical-align: top;\n",
              "    }\n",
              "\n",
              "    .dataframe thead th {\n",
              "        text-align: right;\n",
              "    }\n",
              "</style>\n",
              "<table border=\"1\" class=\"dataframe\">\n",
              "  <thead>\n",
              "    <tr style=\"text-align: right;\">\n",
              "      <th></th>\n",
              "      <th>State</th>\n",
              "      <th>Age</th>\n",
              "      <th>Pocket Money</th>\n",
              "      <th>Course Purchased</th>\n",
              "    </tr>\n",
              "  </thead>\n",
              "  <tbody>\n",
              "    <tr>\n",
              "      <th>0</th>\n",
              "      <td>Delhi</td>\n",
              "      <td>34.0</td>\n",
              "      <td>7200.0</td>\n",
              "      <td>No</td>\n",
              "    </tr>\n",
              "    <tr>\n",
              "      <th>1</th>\n",
              "      <td>Mumbai</td>\n",
              "      <td>17.0</td>\n",
              "      <td>4800.0</td>\n",
              "      <td>Yes</td>\n",
              "    </tr>\n",
              "    <tr>\n",
              "      <th>2</th>\n",
              "      <td>Banglore</td>\n",
              "      <td>20.0</td>\n",
              "      <td>5400.0</td>\n",
              "      <td>No</td>\n",
              "    </tr>\n",
              "    <tr>\n",
              "      <th>3</th>\n",
              "      <td>Mumbai</td>\n",
              "      <td>28.0</td>\n",
              "      <td>6100.0</td>\n",
              "      <td>No</td>\n",
              "    </tr>\n",
              "    <tr>\n",
              "      <th>4</th>\n",
              "      <td>Banglore</td>\n",
              "      <td>30.0</td>\n",
              "      <td>NaN</td>\n",
              "      <td>Yes</td>\n",
              "    </tr>\n",
              "    <tr>\n",
              "      <th>5</th>\n",
              "      <td>Delhi</td>\n",
              "      <td>25.0</td>\n",
              "      <td>5800.0</td>\n",
              "      <td>Yes</td>\n",
              "    </tr>\n",
              "    <tr>\n",
              "      <th>6</th>\n",
              "      <td>Mumbai</td>\n",
              "      <td>NaN</td>\n",
              "      <td>5200.0</td>\n",
              "      <td>No</td>\n",
              "    </tr>\n",
              "    <tr>\n",
              "      <th>7</th>\n",
              "      <td>Delhi</td>\n",
              "      <td>38.0</td>\n",
              "      <td>7900.0</td>\n",
              "      <td>Yes</td>\n",
              "    </tr>\n",
              "    <tr>\n",
              "      <th>8</th>\n",
              "      <td>Banglore</td>\n",
              "      <td>40.0</td>\n",
              "      <td>8300.0</td>\n",
              "      <td>No</td>\n",
              "    </tr>\n",
              "    <tr>\n",
              "      <th>9</th>\n",
              "      <td>Delhi</td>\n",
              "      <td>27.0</td>\n",
              "      <td>6700.0</td>\n",
              "      <td>Yes</td>\n",
              "    </tr>\n",
              "  </tbody>\n",
              "</table>\n",
              "</div>"
            ],
            "text/plain": [
              "      State   Age  Pocket Money Course Purchased\n",
              "0     Delhi  34.0        7200.0               No\n",
              "1    Mumbai  17.0        4800.0              Yes\n",
              "2  Banglore  20.0        5400.0               No\n",
              "3    Mumbai  28.0        6100.0               No\n",
              "4  Banglore  30.0           NaN              Yes\n",
              "5     Delhi  25.0        5800.0              Yes\n",
              "6    Mumbai   NaN        5200.0               No\n",
              "7     Delhi  38.0        7900.0              Yes\n",
              "8  Banglore  40.0        8300.0               No\n",
              "9     Delhi  27.0        6700.0              Yes"
            ]
          },
          "metadata": {
            "tags": []
          },
          "execution_count": 4
        }
      ]
    },
    {
      "cell_type": "code",
      "metadata": {
        "id": "YyxlZn5A7mgx",
        "colab_type": "code",
        "colab": {}
      },
      "source": [
        "# getting independent and dependent matrix out of dataset\n",
        "X= dataFrame.iloc[ :, :-1 ].values"
      ],
      "execution_count": 0,
      "outputs": []
    },
    {
      "cell_type": "code",
      "metadata": {
        "id": "SSaowPZD9nv3",
        "colab_type": "code",
        "outputId": "5abdf411-8622-4e92-c13a-19b70440a3a3",
        "colab": {
          "base_uri": "https://localhost:8080/",
          "height": 187
        }
      },
      "source": [
        "# matrix of independent variable\n",
        "X"
      ],
      "execution_count": 6,
      "outputs": [
        {
          "output_type": "execute_result",
          "data": {
            "text/plain": [
              "array([['Delhi', 34.0, 7200.0],\n",
              "       ['Mumbai', 17.0, 4800.0],\n",
              "       ['Banglore', 20.0, 5400.0],\n",
              "       ['Mumbai', 28.0, 6100.0],\n",
              "       ['Banglore', 30.0, nan],\n",
              "       ['Delhi', 25.0, 5800.0],\n",
              "       ['Mumbai', nan, 5200.0],\n",
              "       ['Delhi', 38.0, 7900.0],\n",
              "       ['Banglore', 40.0, 8300.0],\n",
              "       ['Delhi', 27.0, 6700.0]], dtype=object)"
            ]
          },
          "metadata": {
            "tags": []
          },
          "execution_count": 6
        }
      ]
    },
    {
      "cell_type": "code",
      "metadata": {
        "id": "47QY4NIE9vQI",
        "colab_type": "code",
        "outputId": "a48b1899-b0ad-412c-e66b-0935443035dd",
        "colab": {
          "base_uri": "https://localhost:8080/",
          "height": 51
        }
      },
      "source": [
        "# matrix of dependent variable\n",
        "y= dataFrame.iloc[:, 3].values\n",
        "y"
      ],
      "execution_count": 7,
      "outputs": [
        {
          "output_type": "execute_result",
          "data": {
            "text/plain": [
              "array(['No', 'Yes', 'No', 'No', 'Yes', 'Yes', 'No', 'Yes', 'No', 'Yes'],\n",
              "      dtype=object)"
            ]
          },
          "metadata": {
            "tags": []
          },
          "execution_count": 7
        }
      ]
    },
    {
      "cell_type": "markdown",
      "metadata": {
        "id": "9jGaENm_08pY",
        "colab_type": "text"
      },
      "source": [
        "### how to handle missing values"
      ]
    },
    {
      "cell_type": "code",
      "metadata": {
        "id": "ysjmFFpu-Wr1",
        "colab_type": "code",
        "colab": {}
      },
      "source": [
        "from sklearn.impute import SimpleImputer\n",
        "imputer= SimpleImputer(missing_values=np.NaN, strategy='mean')\n",
        "imputer.fit(X[:, 1:3])\n",
        "X[:, 1:3]= imputer.transform(X[:, 1:3])"
      ],
      "execution_count": 0,
      "outputs": []
    },
    {
      "cell_type": "code",
      "metadata": {
        "id": "Qq6dyLcQ2hLY",
        "colab_type": "code",
        "outputId": "ba54efbb-1d3f-4583-afdc-d00851a9e09e",
        "colab": {
          "base_uri": "https://localhost:8080/",
          "height": 187
        }
      },
      "source": [
        "X"
      ],
      "execution_count": 9,
      "outputs": [
        {
          "output_type": "execute_result",
          "data": {
            "text/plain": [
              "array([['Delhi', 34.0, 7200.0],\n",
              "       ['Mumbai', 17.0, 4800.0],\n",
              "       ['Banglore', 20.0, 5400.0],\n",
              "       ['Mumbai', 28.0, 6100.0],\n",
              "       ['Banglore', 30.0, 6377.777777777777],\n",
              "       ['Delhi', 25.0, 5800.0],\n",
              "       ['Mumbai', 28.77777777777778, 5200.0],\n",
              "       ['Delhi', 38.0, 7900.0],\n",
              "       ['Banglore', 40.0, 8300.0],\n",
              "       ['Delhi', 27.0, 6700.0]], dtype=object)"
            ]
          },
          "metadata": {
            "tags": []
          },
          "execution_count": 9
        }
      ]
    },
    {
      "cell_type": "code",
      "metadata": {
        "id": "Dj_WTF1e3JkM",
        "colab_type": "code",
        "outputId": "7a73f114-8964-4a18-a2e1-ba50bc12c9c4",
        "colab": {
          "base_uri": "https://localhost:8080/",
          "height": 187
        }
      },
      "source": [
        "# handle categorical data in our data\n",
        "from sklearn.preprocessing import LabelEncoder\n",
        "labelencoder_X= LabelEncoder()\n",
        "X[:, 0]= labelencoder_X.fit_transform(X[:, 0])\n",
        "X"
      ],
      "execution_count": 10,
      "outputs": [
        {
          "output_type": "execute_result",
          "data": {
            "text/plain": [
              "array([[1, 34.0, 7200.0],\n",
              "       [2, 17.0, 4800.0],\n",
              "       [0, 20.0, 5400.0],\n",
              "       [2, 28.0, 6100.0],\n",
              "       [0, 30.0, 6377.777777777777],\n",
              "       [1, 25.0, 5800.0],\n",
              "       [2, 28.77777777777778, 5200.0],\n",
              "       [1, 38.0, 7900.0],\n",
              "       [0, 40.0, 8300.0],\n",
              "       [1, 27.0, 6700.0]], dtype=object)"
            ]
          },
          "metadata": {
            "tags": []
          },
          "execution_count": 10
        }
      ]
    },
    {
      "cell_type": "code",
      "metadata": {
        "id": "hFVDzuf6eFDp",
        "colab_type": "code",
        "outputId": "9f0098d7-4828-4cff-fa03-3a9b7fd934e3",
        "colab": {
          "base_uri": "https://localhost:8080/",
          "height": 479
        }
      },
      "source": [
        "# create dummy matrix for categorical dataset\n",
        "from sklearn.preprocessing import OneHotEncoder\n",
        "onehotencoder= OneHotEncoder(categorical_features=[0])\n",
        "X= onehotencoder.fit_transform(X).toarray()\n",
        "np.set_printoptions(suppress=True)\n",
        "X"
      ],
      "execution_count": 11,
      "outputs": [
        {
          "output_type": "stream",
          "text": [
            "/usr/local/lib/python3.6/dist-packages/sklearn/preprocessing/_encoders.py:415: FutureWarning: The handling of integer data will change in version 0.22. Currently, the categories are determined based on the range [0, max(values)], while in the future they will be determined based on the unique values.\n",
            "If you want the future behaviour and silence this warning, you can specify \"categories='auto'\".\n",
            "In case you used a LabelEncoder before this OneHotEncoder to convert the categories to integers, then you can now use the OneHotEncoder directly.\n",
            "  warnings.warn(msg, FutureWarning)\n",
            "/usr/local/lib/python3.6/dist-packages/sklearn/preprocessing/_encoders.py:451: DeprecationWarning: The 'categorical_features' keyword is deprecated in version 0.20 and will be removed in 0.22. You can use the ColumnTransformer instead.\n",
            "  \"use the ColumnTransformer instead.\", DeprecationWarning)\n"
          ],
          "name": "stderr"
        },
        {
          "output_type": "execute_result",
          "data": {
            "text/plain": [
              "array([[   0.        ,    1.        ,    0.        ,   34.        ,\n",
              "        7200.        ],\n",
              "       [   0.        ,    0.        ,    1.        ,   17.        ,\n",
              "        4800.        ],\n",
              "       [   1.        ,    0.        ,    0.        ,   20.        ,\n",
              "        5400.        ],\n",
              "       [   0.        ,    0.        ,    1.        ,   28.        ,\n",
              "        6100.        ],\n",
              "       [   1.        ,    0.        ,    0.        ,   30.        ,\n",
              "        6377.77777778],\n",
              "       [   0.        ,    1.        ,    0.        ,   25.        ,\n",
              "        5800.        ],\n",
              "       [   0.        ,    0.        ,    1.        ,   28.77777778,\n",
              "        5200.        ],\n",
              "       [   0.        ,    1.        ,    0.        ,   38.        ,\n",
              "        7900.        ],\n",
              "       [   1.        ,    0.        ,    0.        ,   40.        ,\n",
              "        8300.        ],\n",
              "       [   0.        ,    1.        ,    0.        ,   27.        ,\n",
              "        6700.        ]])"
            ]
          },
          "metadata": {
            "tags": []
          },
          "execution_count": 11
        }
      ]
    },
    {
      "cell_type": "code",
      "metadata": {
        "id": "p1pHH21Zf0gB",
        "colab_type": "code",
        "outputId": "329c0f13-e2f8-4c72-989b-2c73ec7a6ed6",
        "colab": {
          "base_uri": "https://localhost:8080/",
          "height": 34
        }
      },
      "source": [
        "# handle y matrix for categorical data\n",
        "labelencoder_y= LabelEncoder()\n",
        "y= labelencoder_y.fit_transform(y)\n",
        "y"
      ],
      "execution_count": 12,
      "outputs": [
        {
          "output_type": "execute_result",
          "data": {
            "text/plain": [
              "array([0, 1, 0, 0, 1, 1, 0, 1, 0, 1])"
            ]
          },
          "metadata": {
            "tags": []
          },
          "execution_count": 12
        }
      ]
    },
    {
      "cell_type": "code",
      "metadata": {
        "id": "Ca1paK34hOsG",
        "colab_type": "code",
        "colab": {}
      },
      "source": [
        "# prepare test and training dataset\n",
        "# split our data into two parts, training and test data\n",
        "\n",
        "from sklearn.model_selection import train_test_split\n",
        "X_train, X_test, y_train, y_test= train_test_split(X, y, test_size=0.2)"
      ],
      "execution_count": 0,
      "outputs": []
    },
    {
      "cell_type": "code",
      "metadata": {
        "id": "ILPznxIBi2H4",
        "colab_type": "code",
        "outputId": "0a46c219-a796-414b-e9fa-9fd2c0259f15",
        "colab": {
          "base_uri": "https://localhost:8080/",
          "height": 289
        }
      },
      "source": [
        "X_train"
      ],
      "execution_count": 14,
      "outputs": [
        {
          "output_type": "execute_result",
          "data": {
            "text/plain": [
              "array([[   0.        ,    1.        ,    0.        ,   34.        ,\n",
              "        7200.        ],\n",
              "       [   1.        ,    0.        ,    0.        ,   40.        ,\n",
              "        8300.        ],\n",
              "       [   0.        ,    0.        ,    1.        ,   28.77777778,\n",
              "        5200.        ],\n",
              "       [   1.        ,    0.        ,    0.        ,   20.        ,\n",
              "        5400.        ],\n",
              "       [   0.        ,    0.        ,    1.        ,   28.        ,\n",
              "        6100.        ],\n",
              "       [   0.        ,    1.        ,    0.        ,   25.        ,\n",
              "        5800.        ],\n",
              "       [   0.        ,    0.        ,    1.        ,   17.        ,\n",
              "        4800.        ],\n",
              "       [   0.        ,    1.        ,    0.        ,   38.        ,\n",
              "        7900.        ]])"
            ]
          },
          "metadata": {
            "tags": []
          },
          "execution_count": 14
        }
      ]
    },
    {
      "cell_type": "code",
      "metadata": {
        "id": "CJYpLhdIjEcw",
        "colab_type": "code",
        "outputId": "ab3e09df-9678-47fc-93d7-f587e9e2cb55",
        "colab": {
          "base_uri": "https://localhost:8080/",
          "height": 34
        }
      },
      "source": [
        "y_train"
      ],
      "execution_count": 15,
      "outputs": [
        {
          "output_type": "execute_result",
          "data": {
            "text/plain": [
              "array([0, 0, 0, 0, 0, 1, 1, 1])"
            ]
          },
          "metadata": {
            "tags": []
          },
          "execution_count": 15
        }
      ]
    },
    {
      "cell_type": "markdown",
      "metadata": {
        "id": "Ctb2q4Dsj4Sa",
        "colab_type": "text"
      },
      "source": [
        "## Feature Sacling (sometimes optional)"
      ]
    },
    {
      "cell_type": "code",
      "metadata": {
        "id": "qy2dde9RjKB9",
        "colab_type": "code",
        "colab": {}
      },
      "source": [
        "# Standard Deviation or normalization\n",
        "\n",
        "from sklearn.preprocessing import StandardScaler\n",
        "scale_X= StandardScaler()\n",
        "X_train= scale_X.fit_transform(X_train)\n",
        "X_test= scale_X.transform(X_test)"
      ],
      "execution_count": 0,
      "outputs": []
    },
    {
      "cell_type": "code",
      "metadata": {
        "id": "lZfDwmIskrNM",
        "colab_type": "code",
        "outputId": "806f520a-8dc5-4c5e-e7b2-c83c6207bcd7",
        "colab": {
          "base_uri": "https://localhost:8080/",
          "height": 153
        }
      },
      "source": [
        "X_train"
      ],
      "execution_count": 17,
      "outputs": [
        {
          "output_type": "execute_result",
          "data": {
            "text/plain": [
              "array([[-0.57735027,  1.29099445, -0.77459667,  0.6730752 ,  0.70662458],\n",
              "       [ 1.73205081, -0.77459667, -0.77459667,  1.45681774,  1.60782695],\n",
              "       [-0.57735027, -0.77459667,  1.29099445, -0.00907109, -0.93192517],\n",
              "       [ 1.73205081, -0.77459667, -0.77459667, -1.15565741, -0.7680702 ],\n",
              "       [-0.57735027, -0.77459667,  1.29099445, -0.11066735, -0.19457778],\n",
              "       [-0.57735027,  1.29099445, -0.77459667, -0.50253862, -0.44036025],\n",
              "       [-0.57735027, -0.77459667,  1.29099445, -1.54752868, -1.25963513],\n",
              "       [-0.57735027,  1.29099445, -0.77459667,  1.19557023,  1.280117  ]])"
            ]
          },
          "metadata": {
            "tags": []
          },
          "execution_count": 17
        }
      ]
    }
  ]
}